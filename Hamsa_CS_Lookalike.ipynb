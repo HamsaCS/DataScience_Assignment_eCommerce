{
 "cells": [
  {
   "cell_type": "code",
   "execution_count": 7,
   "metadata": {},
   "outputs": [],
   "source": [
    "import pandas as pd\n",
    "from sklearn.metrics.pairwise import cosine_similarity\n",
    "from sklearn.preprocessing import StandardScaler"
   ]
  },
  {
   "cell_type": "code",
   "execution_count": 8,
   "metadata": {},
   "outputs": [],
   "source": [
    "# Load data\n",
    "customers_df = pd.read_csv('Customers.csv')\n",
    "products_df = pd.read_csv('Products.csv')\n",
    "transactions_df = pd.read_csv('Transactions.csv')"
   ]
  },
  {
   "cell_type": "code",
   "execution_count": 9,
   "metadata": {},
   "outputs": [],
   "source": [
    "# Merge customer and transaction data\n",
    "customer_transactions = transactions_df.merge(customers_df, on='CustomerID')"
   ]
  },
  {
   "cell_type": "code",
   "execution_count": 12,
   "metadata": {},
   "outputs": [],
   "source": [
    "# Step 4: Aggregate transaction data to build customer profiles\n",
    "customer_profiles = customer_transactions.groupby('CustomerID').agg(\n",
    "    total_transactions=('TransactionID', 'count'),\n",
    "    total_spent=('TotalValue', 'sum'),\n",
    "    unique_products=('ProductID', 'nunique')\n",
    ").reset_index()"
   ]
  },
  {
   "cell_type": "code",
   "execution_count": 13,
   "metadata": {},
   "outputs": [],
   "source": [
    "# Step 5: Scale the features for better similarity calculation (optional)\n",
    "scaler = StandardScaler()\n",
    "customer_profiles[['total_transactions', 'total_spent', 'unique_products']] = scaler.fit_transform(\n",
    "    customer_profiles[['total_transactions', 'total_spent', 'unique_products']]\n",
    ")"
   ]
  },
  {
   "cell_type": "code",
   "execution_count": 14,
   "metadata": {},
   "outputs": [],
   "source": [
    "# Step 6: Calculate similarity between customers using cosine similarity\n",
    "cos_sim = cosine_similarity(customer_profiles[['total_transactions', 'total_spent', 'unique_products']])"
   ]
  },
  {
   "cell_type": "code",
   "execution_count": 15,
   "metadata": {},
   "outputs": [],
   "source": [
    "# Step 7: Find top 3 lookalikes for each customer (C0001 to C0020)\n",
    "lookalike_results = []\n",
    "\n",
    "for i in range(20):  # First 20 customers\n",
    "    customer_id = customer_profiles['CustomerID'][i]\n",
    "    sim_scores = list(enumerate(cos_sim[i]))  # Pair (index, similarity_score)\n",
    "    sorted_sim_scores = sorted(sim_scores, key=lambda x: x[1], reverse=True)[1:4]  # Top 3 excluding self\n",
    "    lookalike_results.append({\n",
    "        'CustomerID': customer_id,\n",
    "        'Lookalikes': [(customer_profiles['CustomerID'][j[0]], j[1]) for j in sorted_sim_scores]\n",
    "    })"
   ]
  },
  {
   "cell_type": "code",
   "execution_count": 16,
   "metadata": {},
   "outputs": [],
   "source": [
    "# Step 8: Convert results into a DataFrame\n",
    "lookalike_df = pd.DataFrame(lookalike_results)"
   ]
  },
  {
   "cell_type": "code",
   "execution_count": 17,
   "metadata": {},
   "outputs": [
    {
     "name": "stdout",
     "output_type": "stream",
     "text": [
      "Lookalike model has been built and results saved to 'Lookalike.csv'.\n"
     ]
    }
   ],
   "source": [
    "# Step 9: Save the results to 'Lookalike.csv'\n",
    "lookalike_df.to_csv('Lookalike.csv', index=False)\n",
    "\n",
    "print(\"Lookalike model has been built and results saved to 'Lookalike.csv'.\")"
   ]
  }
 ],
 "metadata": {
  "kernelspec": {
   "display_name": "Python 3",
   "language": "python",
   "name": "python3"
  },
  "language_info": {
   "codemirror_mode": {
    "name": "ipython",
    "version": 3
   },
   "file_extension": ".py",
   "mimetype": "text/x-python",
   "name": "python",
   "nbconvert_exporter": "python",
   "pygments_lexer": "ipython3",
   "version": "3.13.1"
  }
 },
 "nbformat": 4,
 "nbformat_minor": 2
}
